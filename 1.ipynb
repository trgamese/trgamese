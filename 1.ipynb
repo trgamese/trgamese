{
 "cells": [
  {
   "cell_type": "code",
   "execution_count": 1,
   "metadata": {},
   "outputs": [],
   "source": [
    "import atlite\n",
    "import cartopy.io.shapereader as shpreader\n",
    "import geopandas as gpd\n",
    "from shapely.geometry import box\n",
    "import pandas as pd\n",
    "import logging\n",
    "from argparse import ArgumentParser\n",
    "from datetime import datetime"
   ]
  },
  {
   "cell_type": "code",
   "execution_count": 2,
   "metadata": {},
   "outputs": [
    {
     "name": "stderr",
     "output_type": "stream",
     "text": [
      "INFO:root:Processing 2011\n"
     ]
    },
    {
     "name": "stdout",
     "output_type": "stream",
     "text": [
      "0 : 2024-10-06 18:04:27.170372\n"
     ]
    }
   ],
   "source": [
    "print(f'0 : {datetime.now()}')\n",
    "\n",
    "year = '2011'\n",
    "\n",
    "logging.basicConfig(level=logging.INFO)\n",
    "\n",
    "world = gpd.read_file(\"./data/ne_110m_admin_0_countries.shp\")\n",
    "\n",
    "# Drop uninhabited regions and Antarctica\n",
    "# world = world[(world.POP_EST > 0) & (world.NAME != \"Antarctica\")]\n",
    "\n",
    "# region = world\n",
    "region_name = \"western-europe\"\n",
    "\n",
    "# Loop over the years\n",
    "logging.info(f\"Processing {year}\")"
   ]
  },
  {
   "cell_type": "code",
   "execution_count": 3,
   "metadata": {},
   "outputs": [
    {
     "name": "stderr",
     "output_type": "stream",
     "text": [
      "INFO:atlite.cutout:Building new cutout western-europe-2011-01.nc\n"
     ]
    },
    {
     "name": "stdout",
     "output_type": "stream",
     "text": [
      "1 : 2024-10-06 18:04:29.632189\n"
     ]
    }
   ],
   "source": [
    "print(f'1 : {datetime.now()}')\n",
    "\n",
    "# Define the cutout; this will not yet trigger any major operations\n",
    "cutout = atlite.Cutout(\n",
    "    path=f\"{region_name}-{year}-01.nc\",\n",
    "    module=\"era5\", \n",
    "    # bounds=region.unary_union.bounds, \n",
    "    x=slice(-13.6913, 1.7712),\n",
    "    y=slice(49.9096, 60.8479),\n",
    "    time=f\"{year}-01\",\n",
    ")"
   ]
  },
  {
   "cell_type": "code",
   "execution_count": 4,
   "metadata": {},
   "outputs": [
    {
     "name": "stdout",
     "output_type": "stream",
     "text": [
      "<Cutout \"western-europe-2011-01\">\n",
      " x = -13.50 ⟷ 1.75, dx = 0.25\n",
      " y = 50.00 ⟷ 60.75, dy = 0.25\n",
      " time = 2011-01-01 ⟷ 2011-01-31, dt = h\n",
      " module = era5\n",
      " prepared_features = []\n"
     ]
    }
   ],
   "source": [
    "print(cutout)"
   ]
  },
  {
   "cell_type": "code",
   "execution_count": 8,
   "metadata": {},
   "outputs": [
    {
     "name": "stderr",
     "output_type": "stream",
     "text": [
      "INFO:atlite.data:Storing temporary files in /tmp/tmp5xwvvt71\n"
     ]
    },
    {
     "name": "stdout",
     "output_type": "stream",
     "text": [
      "2 : 2024-10-06 18:07:08.489006\n"
     ]
    }
   ],
   "source": [
    "# This is where all the work happens (this can take some time).\n",
    "cutout.prepare(\n",
    "    compression={\"zlib\": True, \"complevel\": 9},\n",
    "    features = ['wind',],\n",
    "    monthly_requests=True,\n",
    "    concurrent_requests=True,\n",
    ")\n",
    "\n",
    "print(f'2 : {datetime.now()}')"
   ]
  },
  {
   "cell_type": "code",
   "execution_count": 9,
   "metadata": {},
   "outputs": [
    {
     "name": "stderr",
     "output_type": "stream",
     "text": [
      "/home/codespace/.python/current/lib/python3.12/site-packages/atlite/resource.py:72: FutureWarning: 'add_cutout_windspeed' for wind turbine\n",
      "power curves will default to True in atlite relase v0.2.15.\n",
      "  warnings.warn(msg, FutureWarning)\n",
      "INFO:atlite.convert:Convert and aggregate 'wind'.\n"
     ]
    },
    {
     "name": "stdout",
     "output_type": "stream",
     "text": [
      "3 : 2024-10-06 18:07:11.570450\n",
      "<xarray.DataArray 'capacity factor' (time: 744, y: 44, x: 62)> Size: 16MB\n",
      "array([[[2.07162156e-01, 2.03869087e-01, 1.78809979e-01, ...,\n",
      "         8.57697593e-04, 4.87033059e-04, 1.82842118e-05],\n",
      "        [1.69812990e-01, 1.55065223e-01, 1.41594819e-01, ...,\n",
      "         0.00000000e+00, 0.00000000e+00, 0.00000000e+00],\n",
      "        [1.44329550e-01, 1.26802419e-01, 1.16621980e-01, ...,\n",
      "         0.00000000e+00, 0.00000000e+00, 0.00000000e+00],\n",
      "        ...,\n",
      "        [7.36809328e-01, 6.99846847e-01, 6.71577921e-01, ...,\n",
      "         1.00000000e+00, 1.00000000e+00, 1.00000000e+00],\n",
      "        [6.66657130e-01, 6.35407851e-01, 6.15444939e-01, ...,\n",
      "         1.00000000e+00, 1.00000000e+00, 1.00000000e+00],\n",
      "        [6.25561873e-01, 5.98668803e-01, 5.86504290e-01, ...,\n",
      "         1.00000000e+00, 1.00000000e+00, 1.00000000e+00]],\n",
      "\n",
      "       [[1.83471508e-01, 1.68532262e-01, 1.45077659e-01, ...,\n",
      "         0.00000000e+00, 0.00000000e+00, 0.00000000e+00],\n",
      "        [1.49398750e-01, 1.33870022e-01, 1.16642316e-01, ...,\n",
      "         0.00000000e+00, 0.00000000e+00, 0.00000000e+00],\n",
      "        [1.21630383e-01, 1.03643981e-01, 9.77223761e-02, ...,\n",
      "         0.00000000e+00, 0.00000000e+00, 0.00000000e+00],\n",
      "...\n",
      "        [1.00000000e+00, 1.00000000e+00, 1.00000000e+00, ...,\n",
      "         1.00000000e+00, 1.00000000e+00, 1.00000000e+00],\n",
      "        [1.00000000e+00, 1.00000000e+00, 1.00000000e+00, ...,\n",
      "         1.00000000e+00, 1.00000000e+00, 1.00000000e+00],\n",
      "        [1.00000000e+00, 1.00000000e+00, 1.00000000e+00, ...,\n",
      "         1.00000000e+00, 1.00000000e+00, 1.00000000e+00]],\n",
      "\n",
      "       [[9.98281289e-01, 1.00000000e+00, 1.00000000e+00, ...,\n",
      "         1.25850221e-03, 1.06531810e-03, 7.48455135e-04],\n",
      "        [9.87432299e-01, 9.98855519e-01, 1.00000000e+00, ...,\n",
      "         1.10359480e-03, 8.55110829e-04, 9.79116540e-04],\n",
      "        [9.68868524e-01, 9.87591983e-01, 9.98802282e-01, ...,\n",
      "         1.60437744e-03, 3.06597060e-03, 1.13919720e-02],\n",
      "        ...,\n",
      "        [1.00000000e+00, 1.00000000e+00, 1.00000000e+00, ...,\n",
      "         1.00000000e+00, 1.00000000e+00, 1.00000000e+00],\n",
      "        [1.00000000e+00, 1.00000000e+00, 1.00000000e+00, ...,\n",
      "         1.00000000e+00, 1.00000000e+00, 1.00000000e+00],\n",
      "        [1.00000000e+00, 1.00000000e+00, 1.00000000e+00, ...,\n",
      "         1.00000000e+00, 1.00000000e+00, 1.00000000e+00]]])\n",
      "Coordinates:\n",
      "  * x        (x) float64 496B -13.5 -13.25 -13.0 -12.75 ... 1.0 1.25 1.5 1.75\n",
      "  * y        (y) float64 352B 50.0 50.25 50.5 50.75 ... 60.0 60.25 60.5 60.75\n",
      "  * time     (time) datetime64[ns] 6kB 2011-01-01 ... 2011-01-31T23:00:00\n",
      "    lon      (x) float64 496B -13.5 -13.25 -13.0 -12.75 ... 1.0 1.25 1.5 1.75\n",
      "    lat      (y) float64 352B 50.0 50.25 50.5 50.75 ... 60.0 60.25 60.5 60.75\n",
      "Attributes:\n",
      "    units:    p.u.\n"
     ]
    }
   ],
   "source": [
    "# Extract the wind power generation capacity factors\n",
    "wind_power_generation = cutout.wind(\n",
    "    \"Vestas_V112_3MW\", \n",
    "    capacity_factor_timeseries=True,\n",
    "    )\n",
    "\n",
    "print(f'3 : {datetime.now()}')\n",
    "print(wind_power_generation)"
   ]
  }
 ],
 "metadata": {
  "kernelspec": {
   "display_name": "Python 3",
   "language": "python",
   "name": "python3"
  },
  "language_info": {
   "codemirror_mode": {
    "name": "ipython",
    "version": 3
   },
   "file_extension": ".py",
   "mimetype": "text/x-python",
   "name": "python",
   "nbconvert_exporter": "python",
   "pygments_lexer": "ipython3",
   "version": "3.12.1"
  }
 },
 "nbformat": 4,
 "nbformat_minor": 2
}
